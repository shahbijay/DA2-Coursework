{
  "nbformat": 4,
  "nbformat_minor": 0,
  "metadata": {
    "colab": {
      "provenance": [],
      "include_colab_link": true
    },
    "kernelspec": {
      "name": "python3",
      "display_name": "Python 3"
    },
    "language_info": {
      "name": "python"
    }
  },
  "cells": [
    {
      "cell_type": "markdown",
      "metadata": {
        "id": "view-in-github",
        "colab_type": "text"
      },
      "source": [
        "<a href=\"https://colab.research.google.com/github/shahbijay/DA2-Coursework/blob/main/week_3.ipynb\" target=\"_parent\"><img src=\"https://colab.research.google.com/assets/colab-badge.svg\" alt=\"Open In Colab\"/></a>"
      ]
    },
    {
      "cell_type": "code",
      "execution_count": null,
      "metadata": {
        "id": "c4Zfqtrf60Vu"
      },
      "outputs": [],
      "source": [
        "import pandas as pd\n",
        "from sqlite3 import connect"
      ]
    },
    {
      "cell_type": "markdown",
      "source": [
        "## **We are going to read in another data set to answer a new question. *Is there evidence for a correlation between income level and the rate of uninsured for county level data?***"
      ],
      "metadata": {
        "id": "n2VFRrNru7rh"
      }
    },
    {
      "cell_type": "code",
      "source": [
        "income = pd.read_csv(\"https://raw.githubusercontent.com/dmorton714/data-2-demo/main/kaggle_income.csv\", encoding='latin-1') # this one is encoded in latin-1\n",
        "income.head()"
      ],
      "metadata": {
        "colab": {
          "base_uri": "https://localhost:8080/",
          "height": 250
        },
        "id": "9zoAHtw5vCQ_",
        "outputId": "ebf1e783-d47c-40de-9789-45a2e542f8b5"
      },
      "execution_count": null,
      "outputs": [
        {
          "output_type": "execute_result",
          "data": {
            "text/plain": [
              "        id  State_Code State_Name State_ab          County            City  \\\n",
              "0  1011000           1    Alabama       AL   Mobile County       Chickasaw   \n",
              "1  1011010           1    Alabama       AL  Barbour County      Louisville   \n",
              "2  1011020           1    Alabama       AL   Shelby County      Columbiana   \n",
              "3  1011030           1    Alabama       AL   Mobile County         Satsuma   \n",
              "4  1011040           1    Alabama       AL   Mobile County  Dauphin Island   \n",
              "\n",
              "             Place  Type Primary  Zip_Code Area_Code     ALand     AWater  \\\n",
              "0   Chickasaw city  City   place     36611       251  10894952     909156   \n",
              "1        Clio city  City   place     36048       334  26070325      23254   \n",
              "2  Columbiana city  City   place     35051       205  44835274     261034   \n",
              "3      Creola city  City   place     36572       251  36878729    2374530   \n",
              "4   Dauphin Island  Town   place     36528       251  16204185  413605152   \n",
              "\n",
              "         Lat        Lon   Mean  Median  Stdev        sum_w  \n",
              "0  30.771450 -88.079697  38773   30506  33101  1638.260513  \n",
              "1  31.708516 -85.611039  37725   19528  43789   258.017685  \n",
              "2  33.191452 -86.615618  54606   31930  57348   926.031000  \n",
              "3  30.874343 -88.009442  63919   52814  47707   378.114619  \n",
              "4  30.250913 -88.171268  77948   67225  54270   282.320328  "
            ],
            "text/html": [
              "\n",
              "  <div id=\"df-6506f39c-f0e7-4608-bb41-710d06d2cd6e\">\n",
              "    <div class=\"colab-df-container\">\n",
              "      <div>\n",
              "<style scoped>\n",
              "    .dataframe tbody tr th:only-of-type {\n",
              "        vertical-align: middle;\n",
              "    }\n",
              "\n",
              "    .dataframe tbody tr th {\n",
              "        vertical-align: top;\n",
              "    }\n",
              "\n",
              "    .dataframe thead th {\n",
              "        text-align: right;\n",
              "    }\n",
              "</style>\n",
              "<table border=\"1\" class=\"dataframe\">\n",
              "  <thead>\n",
              "    <tr style=\"text-align: right;\">\n",
              "      <th></th>\n",
              "      <th>id</th>\n",
              "      <th>State_Code</th>\n",
              "      <th>State_Name</th>\n",
              "      <th>State_ab</th>\n",
              "      <th>County</th>\n",
              "      <th>City</th>\n",
              "      <th>Place</th>\n",
              "      <th>Type</th>\n",
              "      <th>Primary</th>\n",
              "      <th>Zip_Code</th>\n",
              "      <th>Area_Code</th>\n",
              "      <th>ALand</th>\n",
              "      <th>AWater</th>\n",
              "      <th>Lat</th>\n",
              "      <th>Lon</th>\n",
              "      <th>Mean</th>\n",
              "      <th>Median</th>\n",
              "      <th>Stdev</th>\n",
              "      <th>sum_w</th>\n",
              "    </tr>\n",
              "  </thead>\n",
              "  <tbody>\n",
              "    <tr>\n",
              "      <th>0</th>\n",
              "      <td>1011000</td>\n",
              "      <td>1</td>\n",
              "      <td>Alabama</td>\n",
              "      <td>AL</td>\n",
              "      <td>Mobile County</td>\n",
              "      <td>Chickasaw</td>\n",
              "      <td>Chickasaw city</td>\n",
              "      <td>City</td>\n",
              "      <td>place</td>\n",
              "      <td>36611</td>\n",
              "      <td>251</td>\n",
              "      <td>10894952</td>\n",
              "      <td>909156</td>\n",
              "      <td>30.771450</td>\n",
              "      <td>-88.079697</td>\n",
              "      <td>38773</td>\n",
              "      <td>30506</td>\n",
              "      <td>33101</td>\n",
              "      <td>1638.260513</td>\n",
              "    </tr>\n",
              "    <tr>\n",
              "      <th>1</th>\n",
              "      <td>1011010</td>\n",
              "      <td>1</td>\n",
              "      <td>Alabama</td>\n",
              "      <td>AL</td>\n",
              "      <td>Barbour County</td>\n",
              "      <td>Louisville</td>\n",
              "      <td>Clio city</td>\n",
              "      <td>City</td>\n",
              "      <td>place</td>\n",
              "      <td>36048</td>\n",
              "      <td>334</td>\n",
              "      <td>26070325</td>\n",
              "      <td>23254</td>\n",
              "      <td>31.708516</td>\n",
              "      <td>-85.611039</td>\n",
              "      <td>37725</td>\n",
              "      <td>19528</td>\n",
              "      <td>43789</td>\n",
              "      <td>258.017685</td>\n",
              "    </tr>\n",
              "    <tr>\n",
              "      <th>2</th>\n",
              "      <td>1011020</td>\n",
              "      <td>1</td>\n",
              "      <td>Alabama</td>\n",
              "      <td>AL</td>\n",
              "      <td>Shelby County</td>\n",
              "      <td>Columbiana</td>\n",
              "      <td>Columbiana city</td>\n",
              "      <td>City</td>\n",
              "      <td>place</td>\n",
              "      <td>35051</td>\n",
              "      <td>205</td>\n",
              "      <td>44835274</td>\n",
              "      <td>261034</td>\n",
              "      <td>33.191452</td>\n",
              "      <td>-86.615618</td>\n",
              "      <td>54606</td>\n",
              "      <td>31930</td>\n",
              "      <td>57348</td>\n",
              "      <td>926.031000</td>\n",
              "    </tr>\n",
              "    <tr>\n",
              "      <th>3</th>\n",
              "      <td>1011030</td>\n",
              "      <td>1</td>\n",
              "      <td>Alabama</td>\n",
              "      <td>AL</td>\n",
              "      <td>Mobile County</td>\n",
              "      <td>Satsuma</td>\n",
              "      <td>Creola city</td>\n",
              "      <td>City</td>\n",
              "      <td>place</td>\n",
              "      <td>36572</td>\n",
              "      <td>251</td>\n",
              "      <td>36878729</td>\n",
              "      <td>2374530</td>\n",
              "      <td>30.874343</td>\n",
              "      <td>-88.009442</td>\n",
              "      <td>63919</td>\n",
              "      <td>52814</td>\n",
              "      <td>47707</td>\n",
              "      <td>378.114619</td>\n",
              "    </tr>\n",
              "    <tr>\n",
              "      <th>4</th>\n",
              "      <td>1011040</td>\n",
              "      <td>1</td>\n",
              "      <td>Alabama</td>\n",
              "      <td>AL</td>\n",
              "      <td>Mobile County</td>\n",
              "      <td>Dauphin Island</td>\n",
              "      <td>Dauphin Island</td>\n",
              "      <td>Town</td>\n",
              "      <td>place</td>\n",
              "      <td>36528</td>\n",
              "      <td>251</td>\n",
              "      <td>16204185</td>\n",
              "      <td>413605152</td>\n",
              "      <td>30.250913</td>\n",
              "      <td>-88.171268</td>\n",
              "      <td>77948</td>\n",
              "      <td>67225</td>\n",
              "      <td>54270</td>\n",
              "      <td>282.320328</td>\n",
              "    </tr>\n",
              "  </tbody>\n",
              "</table>\n",
              "</div>\n",
              "      <button class=\"colab-df-convert\" onclick=\"convertToInteractive('df-6506f39c-f0e7-4608-bb41-710d06d2cd6e')\"\n",
              "              title=\"Convert this dataframe to an interactive table.\"\n",
              "              style=\"display:none;\">\n",
              "        \n",
              "  <svg xmlns=\"http://www.w3.org/2000/svg\" height=\"24px\"viewBox=\"0 0 24 24\"\n",
              "       width=\"24px\">\n",
              "    <path d=\"M0 0h24v24H0V0z\" fill=\"none\"/>\n",
              "    <path d=\"M18.56 5.44l.94 2.06.94-2.06 2.06-.94-2.06-.94-.94-2.06-.94 2.06-2.06.94zm-11 1L8.5 8.5l.94-2.06 2.06-.94-2.06-.94L8.5 2.5l-.94 2.06-2.06.94zm10 10l.94 2.06.94-2.06 2.06-.94-2.06-.94-.94-2.06-.94 2.06-2.06.94z\"/><path d=\"M17.41 7.96l-1.37-1.37c-.4-.4-.92-.59-1.43-.59-.52 0-1.04.2-1.43.59L10.3 9.45l-7.72 7.72c-.78.78-.78 2.05 0 2.83L4 21.41c.39.39.9.59 1.41.59.51 0 1.02-.2 1.41-.59l7.78-7.78 2.81-2.81c.8-.78.8-2.07 0-2.86zM5.41 20L4 18.59l7.72-7.72 1.47 1.35L5.41 20z\"/>\n",
              "  </svg>\n",
              "      </button>\n",
              "      \n",
              "  <style>\n",
              "    .colab-df-container {\n",
              "      display:flex;\n",
              "      flex-wrap:wrap;\n",
              "      gap: 12px;\n",
              "    }\n",
              "\n",
              "    .colab-df-convert {\n",
              "      background-color: #E8F0FE;\n",
              "      border: none;\n",
              "      border-radius: 50%;\n",
              "      cursor: pointer;\n",
              "      display: none;\n",
              "      fill: #1967D2;\n",
              "      height: 32px;\n",
              "      padding: 0 0 0 0;\n",
              "      width: 32px;\n",
              "    }\n",
              "\n",
              "    .colab-df-convert:hover {\n",
              "      background-color: #E2EBFA;\n",
              "      box-shadow: 0px 1px 2px rgba(60, 64, 67, 0.3), 0px 1px 3px 1px rgba(60, 64, 67, 0.15);\n",
              "      fill: #174EA6;\n",
              "    }\n",
              "\n",
              "    [theme=dark] .colab-df-convert {\n",
              "      background-color: #3B4455;\n",
              "      fill: #D2E3FC;\n",
              "    }\n",
              "\n",
              "    [theme=dark] .colab-df-convert:hover {\n",
              "      background-color: #434B5C;\n",
              "      box-shadow: 0px 1px 3px 1px rgba(0, 0, 0, 0.15);\n",
              "      filter: drop-shadow(0px 1px 2px rgba(0, 0, 0, 0.3));\n",
              "      fill: #FFFFFF;\n",
              "    }\n",
              "  </style>\n",
              "\n",
              "      <script>\n",
              "        const buttonEl =\n",
              "          document.querySelector('#df-6506f39c-f0e7-4608-bb41-710d06d2cd6e button.colab-df-convert');\n",
              "        buttonEl.style.display =\n",
              "          google.colab.kernel.accessAllowed ? 'block' : 'none';\n",
              "\n",
              "        async function convertToInteractive(key) {\n",
              "          const element = document.querySelector('#df-6506f39c-f0e7-4608-bb41-710d06d2cd6e');\n",
              "          const dataTable =\n",
              "            await google.colab.kernel.invokeFunction('convertToInteractive',\n",
              "                                                     [key], {});\n",
              "          if (!dataTable) return;\n",
              "\n",
              "          const docLinkHtml = 'Like what you see? Visit the ' +\n",
              "            '<a target=\"_blank\" href=https://colab.research.google.com/notebooks/data_table.ipynb>data table notebook</a>'\n",
              "            + ' to learn more about interactive tables.';\n",
              "          element.innerHTML = '';\n",
              "          dataTable['output_type'] = 'display_data';\n",
              "          await google.colab.output.renderOutput(dataTable, element);\n",
              "          const docLink = document.createElement('div');\n",
              "          docLink.innerHTML = docLinkHtml;\n",
              "          element.appendChild(docLink);\n",
              "        }\n",
              "      </script>\n",
              "    </div>\n",
              "  </div>\n",
              "  "
            ]
          },
          "metadata": {},
          "execution_count": 2
        }
      ]
    },
    {
      "cell_type": "code",
      "source": [
        "coverage = pd.read_csv(\"https://raw.githubusercontent.com/dmorton714/data-2-demo/main/Insurance%20Coverage%20-%20All%20Demographics%20By%20County.csv\")\n",
        "coverage.head()"
      ],
      "metadata": {
        "colab": {
          "base_uri": "https://localhost:8080/",
          "height": 206
        },
        "id": "1PPiNCwe9FTr",
        "outputId": "d9e84200-8e0e-4512-deca-3574ba50fb21"
      },
      "execution_count": null,
      "outputs": [
        {
          "output_type": "execute_result",
          "data": {
            "text/plain": [
              "   index      year  statefips state_name  countyfips           County  \\\n",
              "0      0  01-01-08          1    Alabama           0  State ofAlabama   \n",
              "1      1  01-01-08          1    Alabama           0  State ofAlabama   \n",
              "2      2  01-01-08          1    Alabama           0  State ofAlabama   \n",
              "3      3  01-01-08          1    Alabama           1   Autauga County   \n",
              "4      4  01-01-08          1    Alabama           1   Autauga County   \n",
              "\n",
              "                    Metric         Value  \n",
              "0           Number insured  6.540953e+06  \n",
              "1         Number uninsured  1.181000e+06  \n",
              "2  Percent Uninsured (All)  2.073000e-01  \n",
              "3           Number insured  3.847400e+04  \n",
              "4         Number uninsured  5.880000e+03  "
            ],
            "text/html": [
              "\n",
              "  <div id=\"df-def139ba-86a2-4119-975d-f2258548535c\">\n",
              "    <div class=\"colab-df-container\">\n",
              "      <div>\n",
              "<style scoped>\n",
              "    .dataframe tbody tr th:only-of-type {\n",
              "        vertical-align: middle;\n",
              "    }\n",
              "\n",
              "    .dataframe tbody tr th {\n",
              "        vertical-align: top;\n",
              "    }\n",
              "\n",
              "    .dataframe thead th {\n",
              "        text-align: right;\n",
              "    }\n",
              "</style>\n",
              "<table border=\"1\" class=\"dataframe\">\n",
              "  <thead>\n",
              "    <tr style=\"text-align: right;\">\n",
              "      <th></th>\n",
              "      <th>index</th>\n",
              "      <th>year</th>\n",
              "      <th>statefips</th>\n",
              "      <th>state_name</th>\n",
              "      <th>countyfips</th>\n",
              "      <th>County</th>\n",
              "      <th>Metric</th>\n",
              "      <th>Value</th>\n",
              "    </tr>\n",
              "  </thead>\n",
              "  <tbody>\n",
              "    <tr>\n",
              "      <th>0</th>\n",
              "      <td>0</td>\n",
              "      <td>01-01-08</td>\n",
              "      <td>1</td>\n",
              "      <td>Alabama</td>\n",
              "      <td>0</td>\n",
              "      <td>State ofAlabama</td>\n",
              "      <td>Number insured</td>\n",
              "      <td>6.540953e+06</td>\n",
              "    </tr>\n",
              "    <tr>\n",
              "      <th>1</th>\n",
              "      <td>1</td>\n",
              "      <td>01-01-08</td>\n",
              "      <td>1</td>\n",
              "      <td>Alabama</td>\n",
              "      <td>0</td>\n",
              "      <td>State ofAlabama</td>\n",
              "      <td>Number uninsured</td>\n",
              "      <td>1.181000e+06</td>\n",
              "    </tr>\n",
              "    <tr>\n",
              "      <th>2</th>\n",
              "      <td>2</td>\n",
              "      <td>01-01-08</td>\n",
              "      <td>1</td>\n",
              "      <td>Alabama</td>\n",
              "      <td>0</td>\n",
              "      <td>State ofAlabama</td>\n",
              "      <td>Percent Uninsured (All)</td>\n",
              "      <td>2.073000e-01</td>\n",
              "    </tr>\n",
              "    <tr>\n",
              "      <th>3</th>\n",
              "      <td>3</td>\n",
              "      <td>01-01-08</td>\n",
              "      <td>1</td>\n",
              "      <td>Alabama</td>\n",
              "      <td>1</td>\n",
              "      <td>Autauga County</td>\n",
              "      <td>Number insured</td>\n",
              "      <td>3.847400e+04</td>\n",
              "    </tr>\n",
              "    <tr>\n",
              "      <th>4</th>\n",
              "      <td>4</td>\n",
              "      <td>01-01-08</td>\n",
              "      <td>1</td>\n",
              "      <td>Alabama</td>\n",
              "      <td>1</td>\n",
              "      <td>Autauga County</td>\n",
              "      <td>Number uninsured</td>\n",
              "      <td>5.880000e+03</td>\n",
              "    </tr>\n",
              "  </tbody>\n",
              "</table>\n",
              "</div>\n",
              "      <button class=\"colab-df-convert\" onclick=\"convertToInteractive('df-def139ba-86a2-4119-975d-f2258548535c')\"\n",
              "              title=\"Convert this dataframe to an interactive table.\"\n",
              "              style=\"display:none;\">\n",
              "        \n",
              "  <svg xmlns=\"http://www.w3.org/2000/svg\" height=\"24px\"viewBox=\"0 0 24 24\"\n",
              "       width=\"24px\">\n",
              "    <path d=\"M0 0h24v24H0V0z\" fill=\"none\"/>\n",
              "    <path d=\"M18.56 5.44l.94 2.06.94-2.06 2.06-.94-2.06-.94-.94-2.06-.94 2.06-2.06.94zm-11 1L8.5 8.5l.94-2.06 2.06-.94-2.06-.94L8.5 2.5l-.94 2.06-2.06.94zm10 10l.94 2.06.94-2.06 2.06-.94-2.06-.94-.94-2.06-.94 2.06-2.06.94z\"/><path d=\"M17.41 7.96l-1.37-1.37c-.4-.4-.92-.59-1.43-.59-.52 0-1.04.2-1.43.59L10.3 9.45l-7.72 7.72c-.78.78-.78 2.05 0 2.83L4 21.41c.39.39.9.59 1.41.59.51 0 1.02-.2 1.41-.59l7.78-7.78 2.81-2.81c.8-.78.8-2.07 0-2.86zM5.41 20L4 18.59l7.72-7.72 1.47 1.35L5.41 20z\"/>\n",
              "  </svg>\n",
              "      </button>\n",
              "      \n",
              "  <style>\n",
              "    .colab-df-container {\n",
              "      display:flex;\n",
              "      flex-wrap:wrap;\n",
              "      gap: 12px;\n",
              "    }\n",
              "\n",
              "    .colab-df-convert {\n",
              "      background-color: #E8F0FE;\n",
              "      border: none;\n",
              "      border-radius: 50%;\n",
              "      cursor: pointer;\n",
              "      display: none;\n",
              "      fill: #1967D2;\n",
              "      height: 32px;\n",
              "      padding: 0 0 0 0;\n",
              "      width: 32px;\n",
              "    }\n",
              "\n",
              "    .colab-df-convert:hover {\n",
              "      background-color: #E2EBFA;\n",
              "      box-shadow: 0px 1px 2px rgba(60, 64, 67, 0.3), 0px 1px 3px 1px rgba(60, 64, 67, 0.15);\n",
              "      fill: #174EA6;\n",
              "    }\n",
              "\n",
              "    [theme=dark] .colab-df-convert {\n",
              "      background-color: #3B4455;\n",
              "      fill: #D2E3FC;\n",
              "    }\n",
              "\n",
              "    [theme=dark] .colab-df-convert:hover {\n",
              "      background-color: #434B5C;\n",
              "      box-shadow: 0px 1px 3px 1px rgba(0, 0, 0, 0.15);\n",
              "      filter: drop-shadow(0px 1px 2px rgba(0, 0, 0, 0.3));\n",
              "      fill: #FFFFFF;\n",
              "    }\n",
              "  </style>\n",
              "\n",
              "      <script>\n",
              "        const buttonEl =\n",
              "          document.querySelector('#df-def139ba-86a2-4119-975d-f2258548535c button.colab-df-convert');\n",
              "        buttonEl.style.display =\n",
              "          google.colab.kernel.accessAllowed ? 'block' : 'none';\n",
              "\n",
              "        async function convertToInteractive(key) {\n",
              "          const element = document.querySelector('#df-def139ba-86a2-4119-975d-f2258548535c');\n",
              "          const dataTable =\n",
              "            await google.colab.kernel.invokeFunction('convertToInteractive',\n",
              "                                                     [key], {});\n",
              "          if (!dataTable) return;\n",
              "\n",
              "          const docLinkHtml = 'Like what you see? Visit the ' +\n",
              "            '<a target=\"_blank\" href=https://colab.research.google.com/notebooks/data_table.ipynb>data table notebook</a>'\n",
              "            + ' to learn more about interactive tables.';\n",
              "          element.innerHTML = '';\n",
              "          dataTable['output_type'] = 'display_data';\n",
              "          await google.colab.output.renderOutput(dataTable, element);\n",
              "          const docLink = document.createElement('div');\n",
              "          docLink.innerHTML = docLinkHtml;\n",
              "          element.appendChild(docLink);\n",
              "        }\n",
              "      </script>\n",
              "    </div>\n",
              "  </div>\n",
              "  "
            ]
          },
          "metadata": {},
          "execution_count": 5
        }
      ]
    },
    {
      "cell_type": "code",
      "source": [
        "conn = connect(':memory:')\n",
        "# create tables\n",
        "income.to_sql(\"income\", conn)\n",
        "coverage.to_sql(\"coverage\", conn)\n",
        "# convenient function\n",
        "def sql(a_string):\n",
        "    return(pd.read_sql(a_string, conn))"
      ],
      "metadata": {
        "id": "YqpgvzTmVJ5Y"
      },
      "execution_count": null,
      "outputs": []
    },
    {
      "cell_type": "markdown",
      "source": [
        "# Coverage Table"
      ],
      "metadata": {
        "id": "y3iUWj5aWSlt"
      }
    },
    {
      "cell_type": "markdown",
      "source": [
        "1) Find all the 'Metric' types.\n"
      ],
      "metadata": {
        "id": "PqQdWr3Gvt44"
      }
    },
    {
      "cell_type": "code",
      "source": [
        "# code goes here "
      ],
      "metadata": {
        "id": "9MXL-1LavuRS"
      },
      "execution_count": null,
      "outputs": []
    },
    {
      "cell_type": "markdown",
      "source": [
        "2) What does 'countyfips' = 0 indicate ?\n"
      ],
      "metadata": {
        "id": "Nbw0CMiavupv"
      }
    },
    {
      "cell_type": "code",
      "source": [
        "# code goes here "
      ],
      "metadata": {
        "id": "UIeiFVG1vu0p"
      },
      "execution_count": null,
      "outputs": []
    },
    {
      "cell_type": "markdown",
      "source": [
        "3) Find the number of counties listed for Alabama.\n"
      ],
      "metadata": {
        "id": "60kNJwu6vu-6"
      }
    },
    {
      "cell_type": "code",
      "source": [
        "# code goes here "
      ],
      "metadata": {
        "id": "Knsy8YpovvJo"
      },
      "execution_count": null,
      "outputs": []
    },
    {
      "cell_type": "markdown",
      "source": [
        "4) Which county in Arkansas has the least number of insured?\n"
      ],
      "metadata": {
        "id": "f20Erg7KvvRb"
      }
    },
    {
      "cell_type": "code",
      "source": [
        "# code goes here "
      ],
      "metadata": {
        "id": "GLsdUMTcvvaa"
      },
      "execution_count": null,
      "outputs": []
    },
    {
      "cell_type": "markdown",
      "source": [
        "5) Which state has the the highest number of total uninsured?\n",
        "income table --\n"
      ],
      "metadata": {
        "id": "lBItUj1zvviK"
      }
    },
    {
      "cell_type": "code",
      "source": [
        "# code goes here "
      ],
      "metadata": {
        "id": "CHbQGtukvvqe"
      },
      "execution_count": null,
      "outputs": []
    },
    {
      "cell_type": "markdown",
      "source": [
        "# Income Table"
      ],
      "metadata": {
        "id": "J9to62v4W05L"
      }
    },
    {
      "cell_type": "markdown",
      "source": [
        "6) For the income dataset how many different place types 'Type' are there?\n"
      ],
      "metadata": {
        "id": "XSrsKweXvvy8"
      }
    },
    {
      "cell_type": "code",
      "source": [
        "# code goes here "
      ],
      "metadata": {
        "id": "GHKCxzScvv7-"
      },
      "execution_count": null,
      "outputs": []
    },
    {
      "cell_type": "markdown",
      "source": [
        " 7) What is the maximum 'Mean' income for a county in the state of Washington?\n"
      ],
      "metadata": {
        "id": "cvIA6MhCvwGj"
      }
    },
    {
      "cell_type": "code",
      "source": [
        "# code goes here "
      ],
      "metadata": {
        "id": "7GV4R4O0vwPq"
      },
      "execution_count": null,
      "outputs": []
    },
    {
      "cell_type": "markdown",
      "source": [
        "8) Which county in the state of Washington has the highest 'Mean' income?\n"
      ],
      "metadata": {
        "id": "fNvdQt_WvwZe"
      }
    },
    {
      "cell_type": "code",
      "source": [
        "# code goes here "
      ],
      "metadata": {
        "id": "NxqKvuVovwiF"
      },
      "execution_count": null,
      "outputs": []
    },
    {
      "cell_type": "markdown",
      "source": [
        "9) How much does the highest 'Mean' income for the state of Washington differ from the highest 'Median' income?\n",
        "join the datasets --\n"
      ],
      "metadata": {
        "id": "QRrPiPl1vwrE"
      }
    },
    {
      "cell_type": "code",
      "source": [
        "# code goes here "
      ],
      "metadata": {
        "id": "7G4TAbWCvw1Y"
      },
      "execution_count": null,
      "outputs": []
    },
    {
      "cell_type": "markdown",
      "source": [
        "# Join Income and Coverage Tables"
      ],
      "metadata": {
        "id": "ym7POaGiXDtr"
      }
    },
    {
      "cell_type": "markdown",
      "source": [
        "10) Perform an inner join of the coverage and income tables on the column 'County'.\n"
      ],
      "metadata": {
        "id": "QUhBhIbcwZnz"
      }
    },
    {
      "cell_type": "code",
      "source": [
        "# code goes here \n",
        "select coverage.Value from "
      ],
      "metadata": {
        "id": "hBCsGY_rw6uV"
      },
      "execution_count": null,
      "outputs": []
    },
    {
      "cell_type": "markdown",
      "source": [
        "11) Add an order by 'Mean' income to the join statement, and display the first 20 rows.\n"
      ],
      "metadata": {
        "id": "O6ZKBdeOwbNz"
      }
    },
    {
      "cell_type": "code",
      "source": [
        "# code goes here "
      ],
      "metadata": {
        "id": "vKF9NxZew7Rd"
      },
      "execution_count": null,
      "outputs": []
    },
    {
      "cell_type": "markdown",
      "source": [
        "12) Reverse the order of 'Mean' income and display the first 20 rows.\n"
      ],
      "metadata": {
        "id": "ULdmBzfUwdgm"
      }
    },
    {
      "cell_type": "code",
      "source": [
        "# code goes here "
      ],
      "metadata": {
        "id": "36y2N1aZw8BD"
      },
      "execution_count": null,
      "outputs": []
    },
    {
      "cell_type": "markdown",
      "source": [
        "13) Add an order by 'Percent Uninsured (All)', and display the first 20 rows.\n"
      ],
      "metadata": {
        "id": "sedUqsZUwin-"
      }
    },
    {
      "cell_type": "code",
      "source": [
        "# code goes here "
      ],
      "metadata": {
        "id": "uNtKZ_FAw85v"
      },
      "execution_count": null,
      "outputs": []
    },
    {
      "cell_type": "markdown",
      "source": [
        "14) Reverse the order of  'Percent Uninsured (All)', and display the first 20 rows.\n"
      ],
      "metadata": {
        "id": "pYxgQcA_wkmT"
      }
    },
    {
      "cell_type": "code",
      "source": [
        "# code goes here "
      ],
      "metadata": {
        "id": "yP0Ge6gUw9l4"
      },
      "execution_count": null,
      "outputs": []
    },
    {
      "cell_type": "markdown",
      "source": [
        "15) Is there evidence for a correlation between income level and the rate of uninsured for county level data?"
      ],
      "metadata": {
        "id": "yyBaJQd7wmb5"
      }
    },
    {
      "cell_type": "code",
      "source": [
        "# code goes here "
      ],
      "metadata": {
        "id": "xVTXcLvjw-Ph"
      },
      "execution_count": null,
      "outputs": []
    }
  ]
}